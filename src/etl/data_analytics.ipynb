{
 "cells": [
  {
   "cell_type": "code",
   "execution_count": 3,
   "id": "151e8bd6",
   "metadata": {},
   "outputs": [
    {
     "data": {
      "text/markdown": [
       "## Análise de dados\n"
      ],
      "text/plain": [
       "<IPython.core.display.Markdown object>"
      ]
     },
     "metadata": {},
     "output_type": "display_data"
    }
   ],
   "source": [
    "%%markdown\n",
    "## Análise de dados"
   ]
  },
  {
   "cell_type": "code",
   "execution_count": 4,
   "id": "8ae2d9e6",
   "metadata": {},
   "outputs": [
    {
     "name": "stdout",
     "output_type": "stream",
     "text": [
      ":: loading settings :: url = jar:file:/opt/spark-3.3.2-bin-hadoop3/jars/ivy-2.5.1.jar!/org/apache/ivy/core/settings/ivysettings.xml\n"
     ]
    },
    {
     "name": "stderr",
     "output_type": "stream",
     "text": [
      "Ivy Default Cache set to: /home/fovr/.ivy2/cache\n",
      "The jars for the packages stored in: /home/fovr/.ivy2/jars\n",
      "io.delta#delta-core_2.12 added as a dependency\n",
      ":: resolving dependencies :: org.apache.spark#spark-submit-parent-2bc716d1-05b0-417e-bb1a-23811da98059;1.0\n",
      "\tconfs: [default]\n",
      "\tfound io.delta#delta-core_2.12;2.3.0 in central\n",
      "\tfound io.delta#delta-storage;2.3.0 in central\n",
      "\tfound org.antlr#antlr4-runtime;4.8 in central\n",
      ":: resolution report :: resolve 192ms :: artifacts dl 8ms\n",
      "\t:: modules in use:\n",
      "\tio.delta#delta-core_2.12;2.3.0 from central in [default]\n",
      "\tio.delta#delta-storage;2.3.0 from central in [default]\n",
      "\torg.antlr#antlr4-runtime;4.8 from central in [default]\n",
      "\t---------------------------------------------------------------------\n",
      "\t|                  |            modules            ||   artifacts   |\n",
      "\t|       conf       | number| search|dwnlded|evicted|| number|dwnlded|\n",
      "\t---------------------------------------------------------------------\n",
      "\t|      default     |   3   |   0   |   0   |   0   ||   3   |   0   |\n",
      "\t---------------------------------------------------------------------\n",
      ":: retrieving :: org.apache.spark#spark-submit-parent-2bc716d1-05b0-417e-bb1a-23811da98059\n",
      "\tconfs: [default]\n",
      "\t0 artifacts copied, 3 already retrieved (0kB/9ms)\n"
     ]
    },
    {
     "name": "stdout",
     "output_type": "stream",
     "text": [
      "23/04/08 17:32:51 WARN NativeCodeLoader: Unable to load native-hadoop library for your platform... using builtin-java classes where applicable\n"
     ]
    },
    {
     "name": "stderr",
     "output_type": "stream",
     "text": [
      "Setting default log level to \"WARN\".\n",
      "To adjust logging level use sc.setLogLevel(newLevel). For SparkR, use setLogLevel(newLevel).\n"
     ]
    }
   ],
   "source": [
    " # import libraries\n",
    "from delta.tables import *\n",
    "from pyspark.sql import SparkSession\n",
    "# from pyspark import SparkConf\n",
    "# from pyspark.sql import *\n",
    "import pyspark\n",
    "from delta import *\n",
    "\n",
    "# Adicionado um outro caminho para o warehouse\n",
    "builder = SparkSession.builder.appName(\"Analytic\") \\\n",
    ".config(\"spark.sql.warehouse.dir\", '/home/fovr/PROJETOS/olist-ml-models/src') \\\n",
    ".config(\"spark.jars.packages\", \"io.delta:delta-core_2.12:2.1.0\") \\\n",
    ".config(\"spark.jars\", \"/home/fovr/PROJETOS/olist-ml-models/jdbc/sqlite-jdbc-3.34.0.jar\")  \\\n",
    ".config(\"spark.sql.extensions\", \"io.delta.sql.DeltaSparkSessionExtension\") \\\n",
    ".config(\"spark.sql.catalog.spark_catalog\", \"org.apache.spark.sql.delta.catalog.DeltaCatalog\") \\\n",
    ".enableHiveSupport() \n",
    "\n",
    "spark = configure_spark_with_delta_pip(builder).getOrCreate()\n",
    "\n"
   ]
  },
  {
   "cell_type": "code",
   "execution_count": 5,
   "id": "8ea6d140",
   "metadata": {},
   "outputs": [
    {
     "data": {
      "text/markdown": [
       "### Silver\n",
       "silver.tbAvaliacao \\\n",
       "silver.tbCliente \\\n",
       "silver.tbGeolocaliza \\\n",
       "silver.tbItemPedido \\\n",
       "silver.tbPagamentoPedido \\\n",
       "silver.tbPedido \\\n",
       "silver.tbProduto \\\n",
       "silver.tbVendedor \n"
      ],
      "text/plain": [
       "<IPython.core.display.Markdown object>"
      ]
     },
     "metadata": {},
     "output_type": "display_data"
    }
   ],
   "source": [
    "%%markdown\n",
    "### Silver\n",
    "silver.tbAvaliacao \\\n",
    "silver.tbCliente \\\n",
    "silver.tbGeolocaliza \\\n",
    "silver.tbItemPedido \\\n",
    "silver.tbPagamentoPedido \\\n",
    "silver.tbPedido \\\n",
    "silver.tbProduto \\\n",
    "silver.tbVendedor "
   ]
  },
  {
   "cell_type": "code",
   "execution_count": 19,
   "id": "8b52a7cc",
   "metadata": {},
   "outputs": [
    {
     "data": {
      "text/markdown": [
       "# Issues Pagamentos\n",
       "\n",
       "* formas de pagamentos\n",
       "* Quantidade média de parcelas\n"
      ],
      "text/plain": [
       "<IPython.core.display.Markdown object>"
      ]
     },
     "metadata": {},
     "output_type": "display_data"
    }
   ],
   "source": [
    "%%markdown\n",
    "# Issues Pagamentos\n",
    "\n",
    "* formas de pagamentos\n",
    "* Quantidade média de parcelas"
   ]
  },
  {
   "cell_type": "code",
   "execution_count": 6,
   "id": "9fb49184",
   "metadata": {},
   "outputs": [
    {
     "name": "stdout",
     "output_type": "stream",
     "text": [
      "23/04/08 17:32:56 WARN HiveConf: HiveConf of name hive.stats.jdbc.timeout does not exist\n",
      "23/04/08 17:32:56 WARN HiveConf: HiveConf of name hive.stats.retries.wait does not exist\n",
      "23/04/08 17:32:58 WARN ObjectStore: Version information not found in metastore. hive.metastore.schema.verification is not enabled so recording the schema version 2.3.0\n",
      "23/04/08 17:32:58 WARN ObjectStore: setMetaStoreSchemaVersion called but recording version is disabled: version = 2.3.0, comment = Set by MetaStore fovr@127.0.1.1\n",
      "+---------+\n",
      "|namespace|\n",
      "+---------+\n",
      "|  default|\n",
      "|   silver|\n",
      "+---------+\n",
      "\n"
     ]
    }
   ],
   "source": [
    "spark.sql(\"SHOW DATABASES\").show()"
   ]
  },
  {
   "cell_type": "code",
   "execution_count": 7,
   "id": "7c7b1142",
   "metadata": {},
   "outputs": [
    {
     "name": "stdout",
     "output_type": "stream",
     "text": [
      "23/04/08 17:32:59 WARN ObjectStore: Failed to get database global_temp, returning NoSuchObjectException\n",
      "23/04/08 17:33:03 WARN package: Truncated the string representation of a plan since it was too large. This behavior can be adjusted by setting 'spark.sql.debug.maxToStringFields'.\n"
     ]
    },
    {
     "name": "stderr",
     "output_type": "stream",
     "text": [
      "                                                                                \r"
     ]
    },
    {
     "name": "stdout",
     "output_type": "stream",
     "text": [
      "+--------------------+--------------------+------------+----------+----------+----------+----------+-------------------+\n",
      "|            idPedido|           idCliente|descSituacao|  dtPedido|dtAprovado|   dtEnvio|dtEntregue|dtEstimativaEntrega|\n",
      "+--------------------+--------------------+------------+----------+----------+----------+----------+-------------------+\n",
      "|15324bb6dca4436f4...|191ba5e82034dafb0...|   delivered|2017-02-14|2017-02-14|2017-02-15|2017-02-20|         2017-03-15|\n",
      "|530e59f0f148ec002...|af350704fe4d751c6...|   delivered|2017-02-14|2017-02-14|2017-02-15|2017-02-17|         2017-03-13|\n",
      "|35dc5c3a87f9e9cf9...|be59c56551fe3cef6...| unavailable|2017-02-14|2017-02-14|      null|      null|         2017-03-15|\n",
      "|e706d614326b76f48...|6fd87c3e71f1826c3...|   delivered|2017-02-14|2017-02-14|2017-02-17|2017-03-03|         2017-03-23|\n",
      "|d2d05762a4554c9d9...|5b43ef89a22571e79...|   delivered|2017-02-14|2017-02-15|2017-02-24|2017-03-08|         2017-03-21|\n",
      "+--------------------+--------------------+------------+----------+----------+----------+----------+-------------------+\n",
      "only showing top 5 rows\n",
      "\n"
     ]
    },
    {
     "name": "stderr",
     "output_type": "stream",
     "text": [
      "\r",
      "[Stage 9:>                                                          (0 + 1) / 1]\r",
      "\r",
      "                                                                                \r"
     ]
    }
   ],
   "source": [
    "spark.sql(\"\"\" SELECT * FROM silver.tbPedido\"\"\").show(5)"
   ]
  },
  {
   "cell_type": "code",
   "execution_count": 8,
   "id": "688a15ec",
   "metadata": {},
   "outputs": [
    {
     "name": "stdout",
     "output_type": "stream",
     "text": [
      "+--------------------+--------------------+------------+----------+----------+----------+----------+-------------------+\n",
      "|            idPedido|           idCliente|descSituacao|  dtPedido|dtAprovado|   dtEnvio|dtEntregue|dtEstimativaEntrega|\n",
      "+--------------------+--------------------+------------+----------+----------+----------+----------+-------------------+\n",
      "|d445a6e277eaa6290...|c2cd065252fa7ad04...|   delivered|2017-08-03|2017-08-03|2017-08-07|2017-08-14|         2017-09-06|\n",
      "|966d505c98ea667c1...|26b32bdec947c658c...|   delivered|2017-08-03|2017-08-05|2017-08-16|2017-08-25|         2017-09-01|\n",
      "|b682fc4ea655d9de9...|99c336ab501ab1c1e...|   delivered|2017-08-03|2017-08-05|2017-08-09|2017-08-28|         2017-08-23|\n",
      "|52324f390c9414a6c...|5a9dae6565b54b1a3...|   delivered|2017-08-03|2017-08-04|2017-08-04|2017-08-11|         2017-09-06|\n",
      "|8f2c9e626786d2b53...|98a505463599ce446...|   delivered|2017-08-03|2017-08-05|2017-08-07|2017-08-14|         2017-08-29|\n",
      "|b8cd3107b41b1232e...|e7958b1dac84719b0...|   delivered|2017-08-03|2017-08-03|2017-08-04|2017-08-25|         2017-09-06|\n",
      "|0e44c0c94c728c1ff...|0f02dbc254d79af01...|   delivered|2017-08-03|2017-08-03|2017-08-04|2017-08-10|         2017-08-25|\n",
      "|e26c49bee8a495cdc...|a589bb2fc41fa5787...|   delivered|2017-08-03|2017-08-05|2017-08-08|2017-08-15|         2017-08-29|\n",
      "|6241cda1675cb9e42...|8b28d65024bde74b0...|   delivered|2017-08-03|2017-08-03|2017-08-08|2017-08-23|         2017-08-25|\n",
      "|76fdd96b734e602ec...|bf235eb38efe6ac9b...|   delivered|2017-08-03|2017-08-03|2017-08-07|2017-08-17|         2017-08-25|\n",
      "|31ca199ff8e0748b9...|f8a3f90054427bb63...|   delivered|2017-08-03|2017-08-05|2017-08-07|2017-08-12|         2017-08-29|\n",
      "|1fd9bf8cb665b63ec...|90375cdb2ffb6381f...|   delivered|2017-08-03|2017-08-03|2017-08-07|2017-08-11|         2017-08-30|\n",
      "|a3fa2b20c0df9c827...|e012ec724eb09748b...|   delivered|2017-08-03|2017-08-04|2017-08-09|2017-08-21|         2017-08-31|\n",
      "|2c1c4a8d435d8080c...|c8c4e5f83e41a1c32...|   delivered|2017-08-03|2017-08-03|2017-08-09|2017-08-18|         2017-09-04|\n",
      "|612f068f7f21e8eb3...|d2d75b50904ca9ca9...|   delivered|2017-08-03|2017-08-03|2017-08-08|2017-08-16|         2017-09-08|\n",
      "|4310dee37e09d3d73...|ed8015d79ac870821...|   delivered|2017-08-03|2017-08-04|2017-08-04|2017-08-10|         2017-08-23|\n",
      "|d0b378f9d33cbf6b2...|9414468f4e33a5759...|   delivered|2017-08-03|2017-08-03|2017-08-04|2017-08-11|         2017-08-25|\n",
      "|2b544b8241dd8fff0...|9a26a1c5188c5c8ca...|   delivered|2017-08-03|2017-08-03|2017-08-09|2017-08-14|         2017-08-25|\n",
      "|d2fee8629e0a48214...|d94dd892998e1f07d...|   delivered|2017-08-03|2017-08-03|2017-08-09|2017-08-16|         2017-08-25|\n",
      "|6c573838baa815157...|ed55195e5f7b43113...|   delivered|2017-08-03|2017-08-03|2017-08-10|2017-08-11|         2017-08-23|\n",
      "+--------------------+--------------------+------------+----------+----------+----------+----------+-------------------+\n",
      "only showing top 20 rows\n",
      "\n"
     ]
    }
   ],
   "source": [
    "# Filtro para pegar apenas os ultimos 6 meses\n",
    "\n",
    "spark.sql(\"\"\"\n",
    "\n",
    "SELECT * \n",
    "FROM silver.tbPedido\n",
    "WHERE dtPedido >= add_months('2018-01-01', -6)\n",
    "\n",
    "\"\"\").show()"
   ]
  },
  {
   "cell_type": "code",
   "execution_count": 9,
   "id": "92d7ddc3",
   "metadata": {},
   "outputs": [
    {
     "name": "stderr",
     "output_type": "stream",
     "text": [
      "                                                                                \r"
     ]
    },
    {
     "name": "stdout",
     "output_type": "stream",
     "text": [
      "+--------------------+-----------------+-----------------+----------+-----------+\n",
      "|            idPedido|idPagamentoPedido|descTipoPagamento|nrParcelas|vlPagamento|\n",
      "+--------------------+-----------------+-----------------+----------+-----------+\n",
      "|b81ef226f3fe1789b...|                1|      credit_card|         8|      99.33|\n",
      "|a9810da82917af2d9...|                1|      credit_card|         1|      24.39|\n",
      "|25e8ea4e93396b6fa...|                1|      credit_card|         1|      65.71|\n",
      "|ba78997921bbcdc13...|                1|      credit_card|         8|     107.78|\n",
      "|42fdf880ba16b47b5...|                1|      credit_card|         2|     128.45|\n",
      "+--------------------+-----------------+-----------------+----------+-----------+\n",
      "only showing top 5 rows\n",
      "\n"
     ]
    }
   ],
   "source": [
    "\n",
    "\n",
    "spark.sql(\"\"\"\n",
    "\n",
    "SELECT * \n",
    "FROM silver.tbPagamentoPedido\n",
    "\n",
    "\"\"\").show(5)"
   ]
  },
  {
   "cell_type": "code",
   "execution_count": 90,
   "id": "4a26091d",
   "metadata": {},
   "outputs": [
    {
     "name": "stdout",
     "output_type": "stream",
     "text": [
      "+--------------------------------+--------------------+-------------------------+---------------------+------------------------+\n",
      "|idVendedor                      |pct_qt_boleto_pedido|pct_qt_credit_card_pedido|pct_qt_voucher_pedido|pct_qt_debit_card_pedido|\n",
      "+--------------------------------+--------------------+-------------------------+---------------------+------------------------+\n",
      "|b3f19518fcec265b2e97af287725f981|0.5                 |0.5                      |0.0                  |0.0                     |\n",
      "|062ce95fa2ad4dfaedfc79260130565f|0.16666666666666666 |0.8333333333333334       |0.0                  |0.0                     |\n",
      "|791cfcfe22fe4a771ece27f90017da92|0.0                 |1.0                      |0.0                  |0.0                     |\n",
      "|2009a095de2a2a41626f6c6d7722678d|0.4                 |0.6                      |0.0                  |0.0                     |\n",
      "|8e6cc767478edae941d9bd9eb778d77a|0.20754716981132076 |0.6981132075471698       |0.09433962264150944  |0.0                     |\n",
      "|ec8879960bd2221d5c32f8e12f7da711|0.16666666666666666 |0.7222222222222222       |0.1111111111111111   |0.0                     |\n",
      "|0ea22c1cfbdc755f86b9b54b39c16043|0.28378378378378377 |0.6216216216216216       |0.0945945945945946   |0.0                     |\n",
      "|e63e8bfa530fb16910dd6956e592bb81|0.17391304347826086 |0.7391304347826086       |0.08695652173913043  |0.0                     |\n",
      "|ff063b022a9a0aab91bad2c9088760b7|0.13636363636363635 |0.8636363636363636       |0.0                  |0.0                     |\n",
      "|a49928bcdf77c55c6d6e05e09a9b4ca5|0.1951219512195122  |0.7317073170731707       |0.07317073170731707  |0.0                     |\n",
      "|9c068d10aca38e85c50202e17b4a7e88|0.125               |0.875                    |0.0                  |0.0                     |\n",
      "|a3082f442524a1be452e3189e003b361|0.0                 |1.0                      |0.0                  |0.0                     |\n",
      "|9b1050e85becf3ae99c1cf4934c9bc5d|0.0                 |1.0                      |0.0                  |0.0                     |\n",
      "|e38db885400cd35c71dfd162f2c1dbcf|0.0                 |0.875                    |0.125                |0.0                     |\n",
      "|71039d19d4303bf9054d69e9a9236699|0.2631578947368421  |0.7368421052631579       |0.0                  |0.0                     |\n",
      "|13fa2a6c6b9d0f43cb588d7c82117a12|0.42857142857142855 |0.5714285714285714       |0.0                  |0.0                     |\n",
      "|8ec76bb0965af3f007692b26fa9d6623|0.0                 |1.0                      |0.0                  |0.0                     |\n",
      "|7aa4334be125fcdd2ba64b3180029f14|0.22842639593908629 |0.7208121827411168       |0.04060913705583756  |0.01015228426395939     |\n",
      "|747c1cdcd1737dcfbd1547f6eb6f2cf3|1.0                 |0.0                      |0.0                  |0.0                     |\n",
      "|33ac3e28642ab8bda860a2f693000e78|0.25                |0.6666666666666666       |0.08333333333333333  |0.0                     |\n",
      "+--------------------------------+--------------------+-------------------------+---------------------+------------------------+\n",
      "only showing top 20 rows\n",
      "\n"
     ]
    }
   ],
   "source": [
    "# \n",
    "\n",
    "spark.sql(\"\"\"\n",
    "\n",
    "WITH tb1 AS (\n",
    "\n",
    "    SELECT \n",
    "    B.*,\n",
    "    A.dtPedido,\n",
    "    C.idVendedor\n",
    "        FROM silver.tbPedido AS A\n",
    "        LEFT JOIN silver.tbPagamentoPedido as B ON A.idPedido = B.idPedido \n",
    "        LEFT JOIN silver.tbItemPedido AS C ON A.idPedido = C.idPedido\n",
    "        WHERE A.dtPedido < '2018-01-01' \n",
    "        AND A.dtPedido >= add_months('2018-01-01', -6) ),\n",
    "        \n",
    "    tb2 AS (\n",
    "        \n",
    "        SELECT idVendedor,\n",
    "            descTipoPagamento,\n",
    "            COUNT(DISTINCT idPedido) AS qtPedidoMeioPagamento,\n",
    "            SUM(vlPagamento) AS vlPedidoPagamento\n",
    "\n",
    "        FROM tb1\n",
    "\n",
    "        GROUP BY idVendedor, descTipoPagamento\n",
    "        ORDER BY idVendedor, descTipoPagamento )\n",
    "        \n",
    "    SELECT  idVendedor \n",
    "           -- , SUM(CASE WHEN descTipoPagamento = 'boleto' THEN vlPedidoPagamento ELSE 0 END) AS vl_boleto_pedido           \n",
    "           -- , SUM(CASE WHEN descTipoPagamento = 'credit_card' THEN vlPedidoPagamento ELSE 0 END) AS vl_credit_card_pedido      \n",
    "           -- , SUM(CASE WHEN descTipoPagamento = 'voucher' THEN vlPedidoPagamento ELSE 0 END) AS vl_voucher_pedido           \n",
    "           -- , SUM(CASE WHEN descTipoPagamento = 'debit_card' THEN vlPedidoPagamento ELSE 0 END) AS vl_debit_card_pedido\n",
    "            \n",
    "            , SUM(CASE WHEN descTipoPagamento = 'boleto' THEN qtPedidoMeioPagamento ELSE 0 END)/ SUM(qtPedidoMeioPagamento) AS pct_qt_boleto_pedido           \n",
    "            , SUM(CASE WHEN descTipoPagamento = 'credit_card' THEN qtPedidoMeioPagamento ELSE 0 END)/ SUM(qtPedidoMeioPagamento) AS pct_qt_credit_card_pedido      \n",
    "            , SUM(CASE WHEN descTipoPagamento = 'voucher' THEN qtPedidoMeioPagamento ELSE 0 END)/ SUM(qtPedidoMeioPagamento) AS pct_qt_voucher_pedido           \n",
    "            , SUM(CASE WHEN descTipoPagamento = 'debit_card' THEN qtPedidoMeioPagamento ELSE 0 END)/ SUM(qtPedidoMeioPagamento) AS pct_qt_debit_card_pedido\n",
    "            \n",
    "            FROM   tb2\n",
    "    GROUP BY idVendedor\n",
    "\n",
    "\"\"\").show(truncate=False)\n",
    "\n"
   ]
  },
  {
   "cell_type": "code",
   "execution_count": 75,
   "id": "11bd4abc",
   "metadata": {},
   "outputs": [
    {
     "name": "stdout",
     "output_type": "stream",
     "text": [
      "+--------------------------------+-----------------+-----------------+----------+-----------+----------+\n",
      "|idPedido                        |idPagamentoPedido|descTipoPagamento|nrParcelas|vlPagamento|dtPedido  |\n",
      "+--------------------------------+-----------------+-----------------+----------+-----------+----------+\n",
      "|6ea2f835b4556291ffdc53fa0b3b95e8|1                |credit_card      |10        |356.12     |2017-11-24|\n",
      "|b01875821b8dcb6abc61776f0f971bce|1                |credit_card      |10        |142.16     |2017-11-24|\n",
      "|b01875821b8dcb6abc61776f0f971bce|1                |credit_card      |10        |142.16     |2017-11-24|\n",
      "|c263211bd219538f7c031591e87ef0d7|1                |boleto           |1         |753.94     |2017-11-24|\n",
      "|c263211bd219538f7c031591e87ef0d7|1                |boleto           |1         |753.94     |2017-11-24|\n",
      "|fb9b2930f4a30f96c7cc98eaaa85e5f0|1                |credit_card      |5         |84.43      |2017-11-24|\n",
      "|52e5445828db681d83dccb33a15ecac4|1                |credit_card      |8         |194.06     |2017-11-24|\n",
      "|6b7c5703bdc03335b37020877a06625e|1                |credit_card      |1         |79.2       |2017-11-24|\n",
      "|95e42e6aaf6264cd3e77c06b32dc3003|1                |credit_card      |8         |92.85      |2017-11-24|\n",
      "|6a6c7d523fd59eb5bbefc007331af717|2                |voucher          |1         |136.13     |2017-11-24|\n",
      "|6a6c7d523fd59eb5bbefc007331af717|1                |credit_card      |1         |40.48      |2017-11-24|\n",
      "|f644267f332fbcb9fe143fbb7478441c|1                |boleto           |1         |123.04     |2017-11-24|\n",
      "|a027919471097ed720c04340e1495e1c|1                |credit_card      |6         |315.84     |2017-11-24|\n",
      "|0917636d789ce3b3eac37895935af5c2|1                |credit_card      |1         |85.14      |2017-11-24|\n",
      "|97d3d89c5b932c10e6d3d4d8c2ba7dd3|1                |credit_card      |3         |137.85     |2017-11-24|\n",
      "|cc86a65e920aceb9fe3bbe49bab2bd52|1                |boleto           |1         |46.01      |2017-11-24|\n",
      "|38171cba31c7211ce21559574998ffdd|1                |credit_card      |3         |139.98     |2017-11-24|\n",
      "|ad1ffca90f5325d0f320f2b0f54eb114|1                |credit_card      |4         |48.69      |2017-11-24|\n",
      "|a0b05780db06986cd81518fc9cc9b34d|1                |credit_card      |10        |138.21     |2017-11-24|\n",
      "|a0b05780db06986cd81518fc9cc9b34d|1                |credit_card      |10        |138.21     |2017-11-24|\n",
      "+--------------------------------+-----------------+-----------------+----------+-----------+----------+\n",
      "only showing top 20 rows\n",
      "\n"
     ]
    }
   ],
   "source": [
    "spark.sql(\"\"\" SELECT \n",
    "    B.*,\n",
    "    A.dtPedido\n",
    "    --C.idVendedor\n",
    "        FROM silver.tbPedido AS A\n",
    "        LEFT JOIN silver.tbPagamentoPedido as B ON A.idPedido = B.idPedido \n",
    "        LEFT JOIN silver.tbItemPedido AS C ON A.idPedido = C.idPedido\n",
    "        WHERE  C.idVendedor IS NOT NULL \"\"\").show(truncate=False)"
   ]
  },
  {
   "cell_type": "code",
   "execution_count": 76,
   "id": "3e25eab4",
   "metadata": {},
   "outputs": [
    {
     "name": "stdout",
     "output_type": "stream",
     "text": [
      "+--------------------+------------+--------------------+--------------------+-------------+-------+-------+\n",
      "|            idPedido|idPedidoItem|           idProduto|          idVendedor|dtLimiteEnvio|vlPreco|vlFrete|\n",
      "+--------------------+------------+--------------------+--------------------+-------------+-------+-------+\n",
      "|6ea2f835b4556291f...|           1|be021417a6acb56b9...|f5f46307a4d15880c...|   2017-11-30|  339.0|  17.12|\n",
      "+--------------------+------------+--------------------+--------------------+-------------+-------+-------+\n",
      "\n"
     ]
    }
   ],
   "source": [
    "spark.sql(\"\"\" SELECT * \n",
    "        FROm silver.tbItemPedido AS C \n",
    "        WHERE C.idpedido = '6ea2f835b4556291ffdc53fa0b3b95e8' \"\"\").show()"
   ]
  }
 ],
 "metadata": {
  "kernelspec": {
   "display_name": "Python 3 (ipykernel)",
   "language": "python",
   "name": "python3"
  },
  "language_info": {
   "codemirror_mode": {
    "name": "ipython",
    "version": 3
   },
   "file_extension": ".py",
   "mimetype": "text/x-python",
   "name": "python",
   "nbconvert_exporter": "python",
   "pygments_lexer": "ipython3",
   "version": "3.10.0"
  }
 },
 "nbformat": 4,
 "nbformat_minor": 5
}
